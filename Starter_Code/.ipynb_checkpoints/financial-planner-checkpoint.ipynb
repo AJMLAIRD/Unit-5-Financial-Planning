{
 "cells": [
  {
   "cell_type": "raw",
   "metadata": {},
   "source": [
    "# Unit 5 - Financial Planning\n",
    "### Aidan Laird"
   ]
  },
  {
   "cell_type": "code",
   "execution_count": 1,
   "metadata": {},
   "outputs": [],
   "source": [
    "# Initial imports\n",
    "import os\n",
    "import requests\n",
    "import pandas as pd\n",
    "from dotenv import load_dotenv\n",
    "import alpaca_trade_api as tradeapi\n",
    "from MCForecastTools import MCSimulation\n",
    "\n",
    "%matplotlib inline"
   ]
  },
  {
   "cell_type": "code",
   "execution_count": 2,
   "metadata": {},
   "outputs": [
    {
     "data": {
      "text/plain": [
       "True"
      ]
     },
     "execution_count": 2,
     "metadata": {},
     "output_type": "execute_result"
    }
   ],
   "source": [
    "# Load .env enviroment variables\n",
    "load_dotenv()"
   ]
  },
  {
   "cell_type": "markdown",
   "metadata": {},
   "source": [
    "## Part 1 - Personal Finance Planner"
   ]
  },
  {
   "cell_type": "markdown",
   "metadata": {},
   "source": [
    "### Collect Crypto Prices Using the `requests` Library"
   ]
  },
  {
   "cell_type": "code",
   "execution_count": 3,
   "metadata": {},
   "outputs": [],
   "source": [
    "# Set current amount of crypto assets\n",
    "\n",
    "my_btc = 1.2\n",
    "my_eth = 5.3\n"
   ]
  },
  {
   "cell_type": "code",
   "execution_count": 4,
   "metadata": {},
   "outputs": [],
   "source": [
    "# Crypto API URLs\n",
    "btc_url = \"https://api.alternative.me/v2/ticker/Bitcoin/?convert=GBP\"\n",
    "eth_url = \"https://api.alternative.me/v2/ticker/Ethereum/?convert=GBP\""
   ]
  },
  {
   "cell_type": "code",
   "execution_count": 5,
   "metadata": {},
   "outputs": [
    {
     "name": "stdout",
     "output_type": "stream",
     "text": [
      "{\n",
      "       \"data\": {\n",
      "              \"1\": {\n",
      "                     \"id\": 1,\n",
      "                     \"name\": \"Bitcoin\",\n",
      "                     \"symbol\": \"BTC\",\n",
      "                     \"website_slug\": \"bitcoin\",\n",
      "                     \"rank\": 1,\n",
      "                     \"circulating_supply\": 18900412,\n",
      "                     \"total_supply\": 18900412,\n",
      "                     \"max_supply\": 21000000,\n",
      "                     \"quotes\": {\n",
      "                            \"USD\": {\n",
      "                                   \"price\": 46982.0,\n",
      "                                   \"volume_24h\": 30473259632,\n",
      "                                   \"market_cap\": 889157086028,\n",
      "                                   \"percentage_change_1h\": -0.437844582390987,\n",
      "                                   \"percentage_change_24h\": -4.23307746087207,\n",
      "                                   \"percentage_change_7d\": -6.89598983441576,\n",
      "                                   \"percent_change_1h\": -0.437844582390987,\n",
      "                                   \"percent_change_24h\": -4.23307746087207,\n",
      "                                   \"percent_change_7d\": -6.89598983441576\n",
      "                            },\n",
      "                            \"GBP\": {\n",
      "                                   \"price\": 35602.9595999999,\n",
      "                                   \"volume_24h\": 23092636149.1295,\n",
      "                                   \"market_cap\": 673803239792.017,\n",
      "                                   \"percent_change_1h\": -0.437844582390987,\n",
      "                                   \"percent_change_24h\": -4.23307746087207,\n",
      "                                   \"percent_change_7d\": -6.89598983441576\n",
      "                            }\n",
      "                     },\n",
      "                     \"last_updated\": 1639459086\n",
      "              }\n",
      "       },\n",
      "       \"metadata\": {\n",
      "              \"timestamp\": 1639459086,\n",
      "              \"num_cryptocurrencies\": 3105,\n",
      "              \"error\": null\n",
      "       }\n",
      "}\n",
      "{\n",
      "       \"data\": {\n",
      "              \"1027\": {\n",
      "                     \"id\": 1027,\n",
      "                     \"name\": \"Ethereum\",\n",
      "                     \"symbol\": \"ETH\",\n",
      "                     \"website_slug\": \"ethereum\",\n",
      "                     \"rank\": 2,\n",
      "                     \"circulating_supply\": 118731117,\n",
      "                     \"total_supply\": 118731117,\n",
      "                     \"max_supply\": 0,\n",
      "                     \"quotes\": {\n",
      "                            \"USD\": {\n",
      "                                   \"price\": 3774.6,\n",
      "                                   \"volume_24h\": 24169375127,\n",
      "                                   \"market_cap\": 448473995093,\n",
      "                                   \"percentage_change_1h\": -0.552472546868225,\n",
      "                                   \"percentage_change_24h\": -6.0564605300598,\n",
      "                                   \"percentage_change_7d\": -13.1799410906374,\n",
      "                                   \"percent_change_1h\": -0.552472546868225,\n",
      "                                   \"percent_change_24h\": -6.0564605300598,\n",
      "                                   \"percent_change_7d\": -13.1799410906374\n",
      "                            },\n",
      "                            \"GBP\": {\n",
      "                                   \"price\": 2860.39187999999,\n",
      "                                   \"volume_24h\": 18315552471.2406,\n",
      "                                   \"market_cap\": 339853593481.475,\n",
      "                                   \"percent_change_1h\": -0.552472546868225,\n",
      "                                   \"percent_change_24h\": -6.0564605300598,\n",
      "                                   \"percent_change_7d\": -13.1799410906374\n",
      "                            }\n",
      "                     },\n",
      "                     \"last_updated\": 1639459054\n",
      "              }\n",
      "       },\n",
      "       \"metadata\": {\n",
      "              \"timestamp\": 1639459054,\n",
      "              \"num_cryptocurrencies\": 3105,\n",
      "              \"error\": null\n",
      "       }\n",
      "}\n",
      "\n",
      "\n",
      "My crypto balances in USD and GBP\n",
      "----------------------------\n",
      "\n",
      "The current value of Aidan's 1.2 BTC is US$56378.40\n",
      "The current value of Aidan's 5.3 ETH is US$20005.38\n",
      "\n",
      "\n",
      "The current value of Aidan's 1.2 BTC in Sterling is £42723.55\n",
      "The current value of Aidan's 5.3 ETH is Sterling is £15160.08\n"
     ]
    }
   ],
   "source": [
    "# Fetch current BTC price\n",
    "response_data_btc = requests.get(btc_url)\n",
    "response_data_btc\n",
    "response_content_btc = response_data_btc.content\n",
    "response_content_btc\n",
    "data_btc = response_data_btc.json()\n",
    "import json\n",
    "print(json.dumps(data_btc, indent=7))\n",
    "\n",
    "\n",
    "# Fetch current ETH price\n",
    "response_data_eth = requests.get(eth_url)\n",
    "response_content_eth = response_data_eth.content\n",
    "data_eth = response_data_eth.json()\n",
    "import json\n",
    "print(json.dumps(data_eth, indent=7))\n",
    "\n",
    "\n",
    "\n",
    "# Compute current value of my crpto\n",
    "\n",
    "btc_value = data_btc[\"data\"][\"1\"][\"quotes\"][\"USD\"][\"price\"]\n",
    "my_btc_value = my_btc * btc_value\n",
    "\n",
    "eth_value = data_eth[\"data\"][\"1027\"][\"quotes\"][\"USD\"][\"price\"]\n",
    "my_eth_value = my_eth * eth_value\n",
    "\n",
    "btc_GBP_value = data_btc[\"data\"][\"1\"][\"quotes\"][\"GBP\"][\"price\"]\n",
    "my_btc_value_GBP = my_btc * btc_GBP_value\n",
    "\n",
    "eth_GBP_value = data_eth[\"data\"][\"1027\"][\"quotes\"][\"GBP\"][\"price\"]\n",
    "my_eth_value_GBP = my_eth * eth_GBP_value\n",
    "\n",
    "\n",
    "\n",
    "# Print current crypto wallet balance\n",
    "print('\\n')\n",
    "print(\"My crypto balances in USD and GBP\")\n",
    "print(f'----------------------------'+'\\n')\n",
    "print(f\"The current value of Aidan's {my_btc} BTC is US${my_btc_value:0.2f}\")\n",
    "print(f\"The current value of Aidan's {my_eth} ETH is US${my_eth_value:0.2f}\")\n",
    "print('\\n')\n",
    "print(f\"The current value of Aidan's {my_btc} BTC in Sterling is £{my_btc_value_GBP:0.2f}\")\n",
    "print(f\"The current value of Aidan's {my_eth} ETH is Sterling is £{my_eth_value_GBP:0.2f}\")"
   ]
  },
  {
   "cell_type": "markdown",
   "metadata": {},
   "source": [
    "### Collect Investments Data Using Alpaca: `SPY` (stocks) and `AGG` (bonds)"
   ]
  },
  {
   "cell_type": "code",
   "execution_count": 6,
   "metadata": {},
   "outputs": [],
   "source": [
    "# Set current amount of shares\n",
    "my_agg = 200\n",
    "my_spy = 50"
   ]
  },
  {
   "cell_type": "code",
   "execution_count": 7,
   "metadata": {},
   "outputs": [],
   "source": [
    "# Set Alpaca API key and secret\n",
    "alpaca_api_key = os.getenv(\"ALPACA_API_KEY\")\n",
    "alpaca_secret_key = os.getenv(\"ALPACA_SECRET_KEY\")\n",
    "\n",
    "\n",
    "# Create the Alpaca API object\n",
    "api = tradeapi.REST(\n",
    "    alpaca_api_key,\n",
    "    alpaca_secret_key,\n",
    "    api_version = \"v2\"\n",
    ")"
   ]
  },
  {
   "cell_type": "code",
   "execution_count": 17,
   "metadata": {},
   "outputs": [
    {
     "data": {
      "text/html": [
       "<div>\n",
       "<style scoped>\n",
       "    .dataframe tbody tr th:only-of-type {\n",
       "        vertical-align: middle;\n",
       "    }\n",
       "\n",
       "    .dataframe tbody tr th {\n",
       "        vertical-align: top;\n",
       "    }\n",
       "\n",
       "    .dataframe thead tr th {\n",
       "        text-align: left;\n",
       "    }\n",
       "\n",
       "    .dataframe thead tr:last-of-type th {\n",
       "        text-align: right;\n",
       "    }\n",
       "</style>\n",
       "<table border=\"1\" class=\"dataframe\">\n",
       "  <thead>\n",
       "    <tr>\n",
       "      <th></th>\n",
       "      <th colspan=\"5\" halign=\"left\">AGG</th>\n",
       "      <th colspan=\"5\" halign=\"left\">SPY</th>\n",
       "    </tr>\n",
       "    <tr>\n",
       "      <th></th>\n",
       "      <th>open</th>\n",
       "      <th>high</th>\n",
       "      <th>low</th>\n",
       "      <th>close</th>\n",
       "      <th>volume</th>\n",
       "      <th>open</th>\n",
       "      <th>high</th>\n",
       "      <th>low</th>\n",
       "      <th>close</th>\n",
       "      <th>volume</th>\n",
       "    </tr>\n",
       "    <tr>\n",
       "      <th>time</th>\n",
       "      <th></th>\n",
       "      <th></th>\n",
       "      <th></th>\n",
       "      <th></th>\n",
       "      <th></th>\n",
       "      <th></th>\n",
       "      <th></th>\n",
       "      <th></th>\n",
       "      <th></th>\n",
       "      <th></th>\n",
       "    </tr>\n",
       "  </thead>\n",
       "  <tbody>\n",
       "    <tr>\n",
       "      <th>2021-12-07 00:00:00-05:00</th>\n",
       "      <td>114.52</td>\n",
       "      <td>114.710</td>\n",
       "      <td>114.45</td>\n",
       "      <td>114.475</td>\n",
       "      <td>5783341.0</td>\n",
       "      <td>464.41</td>\n",
       "      <td>468.8800</td>\n",
       "      <td>458.6546</td>\n",
       "      <td>468.24</td>\n",
       "      <td>79124909.0</td>\n",
       "    </tr>\n",
       "    <tr>\n",
       "      <th>2021-12-08 00:00:00-05:00</th>\n",
       "      <td>114.37</td>\n",
       "      <td>114.370</td>\n",
       "      <td>114.05</td>\n",
       "      <td>114.170</td>\n",
       "      <td>7416826.0</td>\n",
       "      <td>468.70</td>\n",
       "      <td>470.0000</td>\n",
       "      <td>466.8300</td>\n",
       "      <td>469.54</td>\n",
       "      <td>62917411.0</td>\n",
       "    </tr>\n",
       "    <tr>\n",
       "      <th>2021-12-09 00:00:00-05:00</th>\n",
       "      <td>114.28</td>\n",
       "      <td>114.386</td>\n",
       "      <td>114.12</td>\n",
       "      <td>114.200</td>\n",
       "      <td>8223995.0</td>\n",
       "      <td>468.15</td>\n",
       "      <td>469.6291</td>\n",
       "      <td>466.1400</td>\n",
       "      <td>466.34</td>\n",
       "      <td>54963509.0</td>\n",
       "    </tr>\n",
       "    <tr>\n",
       "      <th>2021-12-10 00:00:00-05:00</th>\n",
       "      <td>114.37</td>\n",
       "      <td>114.510</td>\n",
       "      <td>114.22</td>\n",
       "      <td>114.240</td>\n",
       "      <td>6263328.0</td>\n",
       "      <td>469.23</td>\n",
       "      <td>470.9000</td>\n",
       "      <td>466.5100</td>\n",
       "      <td>470.72</td>\n",
       "      <td>64958435.0</td>\n",
       "    </tr>\n",
       "    <tr>\n",
       "      <th>2021-12-13 00:00:00-05:00</th>\n",
       "      <td>114.51</td>\n",
       "      <td>114.705</td>\n",
       "      <td>114.46</td>\n",
       "      <td>114.600</td>\n",
       "      <td>4006984.0</td>\n",
       "      <td>470.19</td>\n",
       "      <td>470.5600</td>\n",
       "      <td>466.2700</td>\n",
       "      <td>466.61</td>\n",
       "      <td>53533452.0</td>\n",
       "    </tr>\n",
       "  </tbody>\n",
       "</table>\n",
       "</div>"
      ],
      "text/plain": [
       "                              AGG                                       \\\n",
       "                             open     high     low    close     volume   \n",
       "time                                                                     \n",
       "2021-12-07 00:00:00-05:00  114.52  114.710  114.45  114.475  5783341.0   \n",
       "2021-12-08 00:00:00-05:00  114.37  114.370  114.05  114.170  7416826.0   \n",
       "2021-12-09 00:00:00-05:00  114.28  114.386  114.12  114.200  8223995.0   \n",
       "2021-12-10 00:00:00-05:00  114.37  114.510  114.22  114.240  6263328.0   \n",
       "2021-12-13 00:00:00-05:00  114.51  114.705  114.46  114.600  4006984.0   \n",
       "\n",
       "                              SPY                                          \n",
       "                             open      high       low   close      volume  \n",
       "time                                                                       \n",
       "2021-12-07 00:00:00-05:00  464.41  468.8800  458.6546  468.24  79124909.0  \n",
       "2021-12-08 00:00:00-05:00  468.70  470.0000  466.8300  469.54  62917411.0  \n",
       "2021-12-09 00:00:00-05:00  468.15  469.6291  466.1400  466.34  54963509.0  \n",
       "2021-12-10 00:00:00-05:00  469.23  470.9000  466.5100  470.72  64958435.0  \n",
       "2021-12-13 00:00:00-05:00  470.19  470.5600  466.2700  466.61  53533452.0  "
      ]
     },
     "execution_count": 17,
     "metadata": {},
     "output_type": "execute_result"
    }
   ],
   "source": [
    "# Format current date as ISO format\n",
    "\n",
    "today = pd.Timestamp(\"2021-12-16\", tz=\"America/New_York\").isoformat()\n",
    "\n",
    "# Set the tickers\n",
    "tickers = [\"AGG\", \"SPY\"]\n",
    "\n",
    "# Set timeframe to '1D' for Alpaca API\n",
    "timeframe = \"1D\"\n",
    "\n",
    "# Get current closing prices for SPY and AGG\n",
    "# (use a limit=1000 parameter to call the most recent 1000 days of data)\n",
    "df_prices = api.get_barset(\n",
    "    tickers,\n",
    "    timeframe,\n",
    "    limit=1000\n",
    ").df.tail()\n",
    "\n",
    "# Preview DataFrame\n",
    "df_prices.head()\n"
   ]
  },
  {
   "cell_type": "code",
   "execution_count": 18,
   "metadata": {},
   "outputs": [
    {
     "name": "stdout",
     "output_type": "stream",
     "text": [
      "Current AGG closing price: $114.475\n",
      "Current SPY closing price: $468.24\n"
     ]
    }
   ],
   "source": [
    "# Pick AGG and SPY close prices\n",
    "agg_close_price = df_prices['AGG']['close'][0]\n",
    "spy_close_price = df_prices['SPY']['close'][0]\n",
    "\n",
    "# Print AGG and SPY close prices\n",
    "print(f\"Current AGG closing price: ${agg_close_price}\")\n",
    "print(f\"Current SPY closing price: ${spy_close_price}\")"
   ]
  },
  {
   "cell_type": "code",
   "execution_count": 19,
   "metadata": {},
   "outputs": [
    {
     "name": "stdout",
     "output_type": "stream",
     "text": [
      "The current value of your 50 SPY shares is $23412.00\n",
      "The current value of your 200 AGG shares is $22895.00\n"
     ]
    }
   ],
   "source": [
    "# Compute the current value of shares\n",
    "my_spy_value = spy_close_price * my_spy\n",
    "my_agg_value = agg_close_price * my_agg\n",
    "\n",
    "# Print current value of shares\n",
    "print(f\"The current value of your {my_spy} SPY shares is ${my_spy_value:0.2f}\")\n",
    "print(f\"The current value of your {my_agg} AGG shares is ${my_agg_value:0.2f}\")"
   ]
  },
  {
   "cell_type": "markdown",
   "metadata": {},
   "source": [
    "### Savings Health Analysis"
   ]
  },
  {
   "cell_type": "code",
   "execution_count": 20,
   "metadata": {},
   "outputs": [
    {
     "data": {
      "text/html": [
       "<div>\n",
       "<style scoped>\n",
       "    .dataframe tbody tr th:only-of-type {\n",
       "        vertical-align: middle;\n",
       "    }\n",
       "\n",
       "    .dataframe tbody tr th {\n",
       "        vertical-align: top;\n",
       "    }\n",
       "\n",
       "    .dataframe thead th {\n",
       "        text-align: right;\n",
       "    }\n",
       "</style>\n",
       "<table border=\"1\" class=\"dataframe\">\n",
       "  <thead>\n",
       "    <tr style=\"text-align: right;\">\n",
       "      <th></th>\n",
       "      <th>Amount in USD</th>\n",
       "    </tr>\n",
       "  </thead>\n",
       "  <tbody>\n",
       "    <tr>\n",
       "      <th>Crypto</th>\n",
       "      <td>76383.78</td>\n",
       "    </tr>\n",
       "    <tr>\n",
       "      <th>Shares</th>\n",
       "      <td>46307.00</td>\n",
       "    </tr>\n",
       "  </tbody>\n",
       "</table>\n",
       "</div>"
      ],
      "text/plain": [
       "        Amount in USD\n",
       "Crypto       76383.78\n",
       "Shares       46307.00"
      ]
     },
     "metadata": {},
     "output_type": "display_data"
    }
   ],
   "source": [
    "# Set monthly household income\n",
    "monthly_income = 12000\n",
    "\n",
    "# Consolidate financial assets data\n",
    "total_crypto = my_btc_value + my_eth_value\n",
    "total_shares = my_spy_value + my_agg_value\n",
    "data = [ total_crypto, total_shares]\n",
    "\n",
    "# Create savings DataFrame\n",
    "df_savings = pd.DataFrame(data, index=['Crypto','Shares'], columns=['Amount in USD'])\n",
    "\n",
    "# Display savings DataFrame\n",
    "display(df_savings)"
   ]
  },
  {
   "cell_type": "code",
   "execution_count": 21,
   "metadata": {},
   "outputs": [
    {
     "data": {
      "text/plain": [
       "<AxesSubplot:title={'center':'Personal Savings'}, ylabel='Amount in USD'>"
      ]
     },
     "execution_count": 21,
     "metadata": {},
     "output_type": "execute_result"
    },
    {
     "data": {
      "image/png": "[encoded data removed]",
      "text/plain": [
       "<Figure size 432x288 with 1 Axes>"
      ]
     },
     "metadata": {},
     "output_type": "display_data"
    }
   ],
   "source": [
    "# Plot savings pie chart\n",
    "df_savings.plot.pie(y='Amount in USD',title='Personal Savings')"
   ]
  },
  {
   "cell_type": "code",
   "execution_count": 26,
   "metadata": {},
   "outputs": [
    {
     "name": "stdout",
     "output_type": "stream",
     "text": [
      "Congratulations! You have enough money in this fund\n"
     ]
    }
   ],
   "source": [
    "# Set ideal emergency fund\n",
    "emergency_fund = monthly_income * 3\n",
    "\n",
    "# Calculate total amount of savings\n",
    "total_savings = total_crypto + total_shares\n",
    "\n",
    "# Validate saving health\n",
    "if (total_savings > emergency_fund):\n",
    "    print(\"Congratulations! You have enough money in this fund\")\n",
    "elif (total_savings == emergency_fund):\n",
    "    print(\"Congratualtions on reaching this financial goal!\")\n",
    "else:\n",
    "    diff = emergency_fund - total_savings\n",
    "    print(f\"You are ${diff} away from reaching your financial goal, keep saving!\")"
   ]
  },
  {
   "cell_type": "markdown",
   "metadata": {},
   "source": [
    "## Part 2 - Retirement Planning\n",
    "\n",
    "### Monte Carlo Simulation"
   ]
  },
  {
   "cell_type": "code",
   "execution_count": 27,
   "metadata": {},
   "outputs": [],
   "source": [
    "# Set start and end dates of five years back from today.\n",
    "# Sample results may vary from the solution based on the time frame chosen\n",
    "start_date = pd.Timestamp('2016-05-01', tz='America/New_York').isoformat()\n",
    "end_date = pd.Timestamp('2021-05-01', tz='America/New_York').isoformat()"
   ]
  },
  {
   "cell_type": "code",
   "execution_count": 31,
   "metadata": {},
   "outputs": [
    {
     "data": {
      "text/html": [
       "<div>\n",
       "<style scoped>\n",
       "    .dataframe tbody tr th:only-of-type {\n",
       "        vertical-align: middle;\n",
       "    }\n",
       "\n",
       "    .dataframe tbody tr th {\n",
       "        vertical-align: top;\n",
       "    }\n",
       "\n",
       "    .dataframe thead tr th {\n",
       "        text-align: left;\n",
       "    }\n",
       "\n",
       "    .dataframe thead tr:last-of-type th {\n",
       "        text-align: right;\n",
       "    }\n",
       "</style>\n",
       "<table border=\"1\" class=\"dataframe\">\n",
       "  <thead>\n",
       "    <tr>\n",
       "      <th></th>\n",
       "      <th colspan=\"5\" halign=\"left\">AGG</th>\n",
       "      <th colspan=\"5\" halign=\"left\">SPY</th>\n",
       "    </tr>\n",
       "    <tr>\n",
       "      <th></th>\n",
       "      <th>open</th>\n",
       "      <th>high</th>\n",
       "      <th>low</th>\n",
       "      <th>close</th>\n",
       "      <th>volume</th>\n",
       "      <th>open</th>\n",
       "      <th>high</th>\n",
       "      <th>low</th>\n",
       "      <th>close</th>\n",
       "      <th>volume</th>\n",
       "    </tr>\n",
       "    <tr>\n",
       "      <th>time</th>\n",
       "      <th></th>\n",
       "      <th></th>\n",
       "      <th></th>\n",
       "      <th></th>\n",
       "      <th></th>\n",
       "      <th></th>\n",
       "      <th></th>\n",
       "      <th></th>\n",
       "      <th></th>\n",
       "      <th></th>\n",
       "    </tr>\n",
       "  </thead>\n",
       "  <tbody>\n",
       "    <tr>\n",
       "      <th>2021-04-26 00:00:00-04:00</th>\n",
       "      <td>114.74</td>\n",
       "      <td>114.8015</td>\n",
       "      <td>114.65</td>\n",
       "      <td>114.65</td>\n",
       "      <td>2867784.0</td>\n",
       "      <td>417.44</td>\n",
       "      <td>418.22</td>\n",
       "      <td>416.8111</td>\n",
       "      <td>417.64</td>\n",
       "      <td>44689009.0</td>\n",
       "    </tr>\n",
       "    <tr>\n",
       "      <th>2021-04-27 00:00:00-04:00</th>\n",
       "      <td>115.13</td>\n",
       "      <td>115.1300</td>\n",
       "      <td>114.37</td>\n",
       "      <td>114.37</td>\n",
       "      <td>3421667.0</td>\n",
       "      <td>417.91</td>\n",
       "      <td>418.14</td>\n",
       "      <td>416.3000</td>\n",
       "      <td>417.48</td>\n",
       "      <td>45962655.0</td>\n",
       "    </tr>\n",
       "    <tr>\n",
       "      <th>2021-04-28 00:00:00-04:00</th>\n",
       "      <td>114.45</td>\n",
       "      <td>114.4685</td>\n",
       "      <td>114.20</td>\n",
       "      <td>114.44</td>\n",
       "      <td>6185936.0</td>\n",
       "      <td>417.81</td>\n",
       "      <td>419.01</td>\n",
       "      <td>416.9000</td>\n",
       "      <td>417.35</td>\n",
       "      <td>45533863.0</td>\n",
       "    </tr>\n",
       "    <tr>\n",
       "      <th>2021-04-29 00:00:00-04:00</th>\n",
       "      <td>114.14</td>\n",
       "      <td>114.3700</td>\n",
       "      <td>114.09</td>\n",
       "      <td>114.37</td>\n",
       "      <td>5796983.0</td>\n",
       "      <td>420.33</td>\n",
       "      <td>420.72</td>\n",
       "      <td>416.4400</td>\n",
       "      <td>419.98</td>\n",
       "      <td>70595229.0</td>\n",
       "    </tr>\n",
       "    <tr>\n",
       "      <th>2021-04-30 00:00:00-04:00</th>\n",
       "      <td>114.41</td>\n",
       "      <td>114.5150</td>\n",
       "      <td>114.33</td>\n",
       "      <td>114.50</td>\n",
       "      <td>5160765.0</td>\n",
       "      <td>417.63</td>\n",
       "      <td>418.54</td>\n",
       "      <td>416.3400</td>\n",
       "      <td>417.30</td>\n",
       "      <td>73129109.0</td>\n",
       "    </tr>\n",
       "  </tbody>\n",
       "</table>\n",
       "</div>"
      ],
      "text/plain": [
       "                              AGG                                       \\\n",
       "                             open      high     low   close     volume   \n",
       "time                                                                     \n",
       "2021-04-26 00:00:00-04:00  114.74  114.8015  114.65  114.65  2867784.0   \n",
       "2021-04-27 00:00:00-04:00  115.13  115.1300  114.37  114.37  3421667.0   \n",
       "2021-04-28 00:00:00-04:00  114.45  114.4685  114.20  114.44  6185936.0   \n",
       "2021-04-29 00:00:00-04:00  114.14  114.3700  114.09  114.37  5796983.0   \n",
       "2021-04-30 00:00:00-04:00  114.41  114.5150  114.33  114.50  5160765.0   \n",
       "\n",
       "                              SPY                                        \n",
       "                             open    high       low   close      volume  \n",
       "time                                                                     \n",
       "2021-04-26 00:00:00-04:00  417.44  418.22  416.8111  417.64  44689009.0  \n",
       "2021-04-27 00:00:00-04:00  417.91  418.14  416.3000  417.48  45962655.0  \n",
       "2021-04-28 00:00:00-04:00  417.81  419.01  416.9000  417.35  45533863.0  \n",
       "2021-04-29 00:00:00-04:00  420.33  420.72  416.4400  419.98  70595229.0  \n",
       "2021-04-30 00:00:00-04:00  417.63  418.54  416.3400  417.30  73129109.0  "
      ]
     },
     "execution_count": 31,
     "metadata": {},
     "output_type": "execute_result"
    }
   ],
   "source": [
    "# Get 5 years' worth of historical data for SPY and AGG\n",
    "# (use a limit=1000 parameter to call the most recent 1000 days of data)\n",
    "\n",
    "tickers = [\"AGG\", \"SPY\"]\n",
    "df_stock_data = api.get_barset(\n",
    "    tickers,\n",
    "    timeframe,\n",
    "    start=start_date,\n",
    "    end=end_date,\n",
    "    limit=1000\n",
    ").df.tail()\n",
    "\n",
    "df_stock_data = pd.concat([df_stock_data])\n",
    "\n",
    "# Display sample data\n",
    "df_stock_data.head()"
   ]
  },
  {
   "cell_type": "code",
   "execution_count": 32,
   "metadata": {},
   "outputs": [],
   "source": [
    "# Configuring a Monte Carlo simulation to forecast 30 years cumulative returns\n",
    "MC_stocks_dist = MCSimulation(\n",
    "    portfolio_data = df_stock_data,\n",
    "    weights = [0.4, 0.6],\n",
    "    num_simulation = 500,\n",
    "    num_trading_days = 252*30\n",
    ")"
   ]
  },
  {
   "cell_type": "code",
   "execution_count": 33,
   "metadata": {},
   "outputs": [
    {
     "data": {
      "text/html": [
       "<div>\n",
       "<style scoped>\n",
       "    .dataframe tbody tr th:only-of-type {\n",
       "        vertical-align: middle;\n",
       "    }\n",
       "\n",
       "    .dataframe tbody tr th {\n",
       "        vertical-align: top;\n",
       "    }\n",
       "\n",
       "    .dataframe thead tr th {\n",
       "        text-align: left;\n",
       "    }\n",
       "\n",
       "    .dataframe thead tr:last-of-type th {\n",
       "        text-align: right;\n",
       "    }\n",
       "</style>\n",
       "<table border=\"1\" class=\"dataframe\">\n",
       "  <thead>\n",
       "    <tr>\n",
       "      <th></th>\n",
       "      <th colspan=\"6\" halign=\"left\">AGG</th>\n",
       "      <th colspan=\"6\" halign=\"left\">SPY</th>\n",
       "    </tr>\n",
       "    <tr>\n",
       "      <th></th>\n",
       "      <th>open</th>\n",
       "      <th>high</th>\n",
       "      <th>low</th>\n",
       "      <th>close</th>\n",
       "      <th>volume</th>\n",
       "      <th>daily_return</th>\n",
       "      <th>open</th>\n",
       "      <th>high</th>\n",
       "      <th>low</th>\n",
       "      <th>close</th>\n",
       "      <th>volume</th>\n",
       "      <th>daily_return</th>\n",
       "    </tr>\n",
       "    <tr>\n",
       "      <th>time</th>\n",
       "      <th></th>\n",
       "      <th></th>\n",
       "      <th></th>\n",
       "      <th></th>\n",
       "      <th></th>\n",
       "      <th></th>\n",
       "      <th></th>\n",
       "      <th></th>\n",
       "      <th></th>\n",
       "      <th></th>\n",
       "      <th></th>\n",
       "      <th></th>\n",
       "    </tr>\n",
       "  </thead>\n",
       "  <tbody>\n",
       "    <tr>\n",
       "      <th>2021-04-26 00:00:00-04:00</th>\n",
       "      <td>114.74</td>\n",
       "      <td>114.8015</td>\n",
       "      <td>114.65</td>\n",
       "      <td>114.65</td>\n",
       "      <td>2867784.0</td>\n",
       "      <td>NaN</td>\n",
       "      <td>417.44</td>\n",
       "      <td>418.22</td>\n",
       "      <td>416.8111</td>\n",
       "      <td>417.64</td>\n",
       "      <td>44689009.0</td>\n",
       "      <td>NaN</td>\n",
       "    </tr>\n",
       "    <tr>\n",
       "      <th>2021-04-27 00:00:00-04:00</th>\n",
       "      <td>115.13</td>\n",
       "      <td>115.1300</td>\n",
       "      <td>114.37</td>\n",
       "      <td>114.37</td>\n",
       "      <td>3421667.0</td>\n",
       "      <td>-0.002442</td>\n",
       "      <td>417.91</td>\n",
       "      <td>418.14</td>\n",
       "      <td>416.3000</td>\n",
       "      <td>417.48</td>\n",
       "      <td>45962655.0</td>\n",
       "      <td>-0.000383</td>\n",
       "    </tr>\n",
       "    <tr>\n",
       "      <th>2021-04-28 00:00:00-04:00</th>\n",
       "      <td>114.45</td>\n",
       "      <td>114.4685</td>\n",
       "      <td>114.20</td>\n",
       "      <td>114.44</td>\n",
       "      <td>6185936.0</td>\n",
       "      <td>0.000612</td>\n",
       "      <td>417.81</td>\n",
       "      <td>419.01</td>\n",
       "      <td>416.9000</td>\n",
       "      <td>417.35</td>\n",
       "      <td>45533863.0</td>\n",
       "      <td>-0.000311</td>\n",
       "    </tr>\n",
       "    <tr>\n",
       "      <th>2021-04-29 00:00:00-04:00</th>\n",
       "      <td>114.14</td>\n",
       "      <td>114.3700</td>\n",
       "      <td>114.09</td>\n",
       "      <td>114.37</td>\n",
       "      <td>5796983.0</td>\n",
       "      <td>-0.000612</td>\n",
       "      <td>420.33</td>\n",
       "      <td>420.72</td>\n",
       "      <td>416.4400</td>\n",
       "      <td>419.98</td>\n",
       "      <td>70595229.0</td>\n",
       "      <td>0.006302</td>\n",
       "    </tr>\n",
       "    <tr>\n",
       "      <th>2021-04-30 00:00:00-04:00</th>\n",
       "      <td>114.41</td>\n",
       "      <td>114.5150</td>\n",
       "      <td>114.33</td>\n",
       "      <td>114.50</td>\n",
       "      <td>5160765.0</td>\n",
       "      <td>0.001137</td>\n",
       "      <td>417.63</td>\n",
       "      <td>418.54</td>\n",
       "      <td>416.3400</td>\n",
       "      <td>417.30</td>\n",
       "      <td>73129109.0</td>\n",
       "      <td>-0.006381</td>\n",
       "    </tr>\n",
       "  </tbody>\n",
       "</table>\n",
       "</div>"
      ],
      "text/plain": [
       "                              AGG                                       \\\n",
       "                             open      high     low   close     volume   \n",
       "time                                                                     \n",
       "2021-04-26 00:00:00-04:00  114.74  114.8015  114.65  114.65  2867784.0   \n",
       "2021-04-27 00:00:00-04:00  115.13  115.1300  114.37  114.37  3421667.0   \n",
       "2021-04-28 00:00:00-04:00  114.45  114.4685  114.20  114.44  6185936.0   \n",
       "2021-04-29 00:00:00-04:00  114.14  114.3700  114.09  114.37  5796983.0   \n",
       "2021-04-30 00:00:00-04:00  114.41  114.5150  114.33  114.50  5160765.0   \n",
       "\n",
       "                                           SPY                            \\\n",
       "                          daily_return    open    high       low   close   \n",
       "time                                                                       \n",
       "2021-04-26 00:00:00-04:00          NaN  417.44  418.22  416.8111  417.64   \n",
       "2021-04-27 00:00:00-04:00    -0.002442  417.91  418.14  416.3000  417.48   \n",
       "2021-04-28 00:00:00-04:00     0.000612  417.81  419.01  416.9000  417.35   \n",
       "2021-04-29 00:00:00-04:00    -0.000612  420.33  420.72  416.4400  419.98   \n",
       "2021-04-30 00:00:00-04:00     0.001137  417.63  418.54  416.3400  417.30   \n",
       "\n",
       "                                                    \n",
       "                               volume daily_return  \n",
       "time                                                \n",
       "2021-04-26 00:00:00-04:00  44689009.0          NaN  \n",
       "2021-04-27 00:00:00-04:00  45962655.0    -0.000383  \n",
       "2021-04-28 00:00:00-04:00  45533863.0    -0.000311  \n",
       "2021-04-29 00:00:00-04:00  70595229.0     0.006302  \n",
       "2021-04-30 00:00:00-04:00  73129109.0    -0.006381  "
      ]
     },
     "execution_count": 33,
     "metadata": {},
     "output_type": "execute_result"
    }
   ],
   "source": [
    "# Printing the simulation input data\n",
    "MC_stocks_dist.portfolio_data.head()"
   ]
  },
  {
   "cell_type": "code",
   "execution_count": null,
   "metadata": {},
   "outputs": [
    {
     "name": "stdout",
     "output_type": "stream",
     "text": [
      "Running Monte Carlo simulation number 0.\n",
      "Running Monte Carlo simulation number 10.\n",
      "Running Monte Carlo simulation number 20.\n",
      "Running Monte Carlo simulation number 30.\n",
      "Running Monte Carlo simulation number 40.\n",
      "Running Monte Carlo simulation number 50.\n",
      "Running Monte Carlo simulation number 60.\n",
      "Running Monte Carlo simulation number 70.\n",
      "Running Monte Carlo simulation number 80.\n",
      "Running Monte Carlo simulation number 90.\n",
      "Running Monte Carlo simulation number 100.\n"
     ]
    },
    {
     "name": "stderr",
     "output_type": "stream",
     "text": [
      "/Users/ajmlaird/monu-virt-fin-11-2021-u-c/Homework/Week 5/Starter_Code/MCForecastTools.py:117: PerformanceWarning: DataFrame is highly fragmented.  This is usually the result of calling `frame.insert` many times, which has poor performance.  Consider joining all columns at once using pd.concat(axis=1) instead.  To get a de-fragmented frame, use `newframe = frame.copy()`\n",
      "  portfolio_cumulative_returns[n] = (1 + sim_df.fillna(0)).cumprod()\n"
     ]
    },
    {
     "name": "stdout",
     "output_type": "stream",
     "text": [
      "Running Monte Carlo simulation number 110.\n",
      "Running Monte Carlo simulation number 120.\n",
      "Running Monte Carlo simulation number 130.\n",
      "Running Monte Carlo simulation number 140.\n",
      "Running Monte Carlo simulation number 150.\n",
      "Running Monte Carlo simulation number 160.\n",
      "Running Monte Carlo simulation number 170.\n",
      "Running Monte Carlo simulation number 180.\n",
      "Running Monte Carlo simulation number 190.\n",
      "Running Monte Carlo simulation number 200.\n",
      "Running Monte Carlo simulation number 210.\n",
      "Running Monte Carlo simulation number 220.\n",
      "Running Monte Carlo simulation number 230.\n",
      "Running Monte Carlo simulation number 240.\n",
      "Running Monte Carlo simulation number 250.\n",
      "Running Monte Carlo simulation number 260.\n"
     ]
    }
   ],
   "source": [
    "# Running a Monte Carlo simulation to forecast 30 years cumulative returns\n",
    "MC_stocks_dist.calc_cumulative_return()"
   ]
  },
  {
   "cell_type": "code",
   "execution_count": null,
   "metadata": {},
   "outputs": [],
   "source": [
    "# Plot simulation outcomes\n",
    "MC_stocks_dist.plot_simulation()"
   ]
  },
  {
   "cell_type": "code",
   "execution_count": null,
   "metadata": {},
   "outputs": [],
   "source": [
    "# Plot probability distribution and confidence intervals\n",
    "MC_stocks_dist.plot_distribution()"
   ]
  },
  {
   "cell_type": "markdown",
   "metadata": {},
   "source": [
    "### Retirement Analysis"
   ]
  },
  {
   "cell_type": "code",
   "execution_count": null,
   "metadata": {},
   "outputs": [],
   "source": [
    "# Fetch summary statistics from the Monte Carlo simulation results\n",
    "summary = MC_stocks_dist.summarize_cumulative_return()\n",
    "\n",
    "# Print summary statistics\n",
    "summary"
   ]
  },
  {
   "cell_type": "markdown",
   "metadata": {},
   "source": [
    "### Calculate the expected portfolio return at the `95%` lower and upper confidence intervals based on a `$20,000` initial investment."
   ]
  },
  {
   "cell_type": "code",
   "execution_count": null,
   "metadata": {},
   "outputs": [],
   "source": [
    "# Set initial investment\n",
    "initial_investment = 20000\n",
    "\n",
    "# Use the lower and upper `95%` confidence intervals to calculate the range of the possible outcomes of our $20,000\n",
    "ci_lower = round(summary[8]*initial_investment, 2)\n",
    "ci_upper = round(summary[9]*initial_investment, 2)\n",
    "\n",
    "# Print results\n",
    "print(f\"There is a 95% chance that an initial investment of ${initial_investment} in the portfolio\"\n",
    "      f\" over the next 30 years will end within in the range of\"\n",
    "      f\" ${ci_lower} and ${ci_upper}\")"
   ]
  },
  {
   "cell_type": "markdown",
   "metadata": {},
   "source": [
    "### Calculate the expected portfolio return at the `95%` lower and upper confidence intervals based on a `50%` increase in the initial investment."
   ]
  },
  {
   "cell_type": "code",
   "execution_count": null,
   "metadata": {},
   "outputs": [],
   "source": [
    "# Set initial investment\n",
    "initial_investment = 20000 * 1.5\n",
    "\n",
    "# Use the lower and upper `95%` confidence intervals to calculate the range of the possible outcomes of our $30,000\n",
    "ci_lower = round(summary[8]*initial_investment, 2)\n",
    "ci_upper = round(summary[9]*initial_investment, 2)\n",
    "\n",
    "# Print results\n",
    "print(f\"There is a 95% chance that an initial investment of ${initial_investment} in the portfolio\"\n",
    "      f\" over the next 30 years will end within in the range of\"\n",
    "      f\" ${ci_lower} and ${ci_upper}\")"
   ]
  },
  {
   "cell_type": "markdown",
   "metadata": {},
   "source": [
    "## Optional Challenge - Early Retirement\n",
    "\n",
    "\n",
    "### Five Years Retirement Option"
   ]
  },
  {
   "cell_type": "code",
   "execution_count": null,
   "metadata": {},
   "outputs": [],
   "source": [
    "# Configuring a Monte Carlo simulation to forecast 5 years cumulative returns\n",
    "MC_stocks_5 = MCSimulation(\n",
    "    portfolio_data = df_stock_data,\n",
    "    weights = [0.2, 0.8],\n",
    "    num_simulation = 500,\n",
    "    num_trading_days = 252*5\n",
    ")"
   ]
  },
  {
   "cell_type": "code",
   "execution_count": null,
   "metadata": {},
   "outputs": [],
   "source": [
    "# Running a Monte Carlo simulation to forecast 5 years cumulative returns\n",
    "MC_stocks_5.calc_cumulative_return()"
   ]
  },
  {
   "cell_type": "code",
   "execution_count": null,
   "metadata": {},
   "outputs": [],
   "source": [
    "# Plot simulation outcomes\n",
    "MC_stocks_5.plot_simulation()"
   ]
  },
  {
   "cell_type": "code",
   "execution_count": null,
   "metadata": {},
   "outputs": [],
   "source": [
    "# Plot probability distribution and confidence intervals\n",
    "MC_stocks_5.plot_distribution()"
   ]
  },
  {
   "cell_type": "code",
   "execution_count": null,
   "metadata": {},
   "outputs": [],
   "source": [
    "# Fetch summary statistics from the Monte Carlo simulation results\n",
    "summary_5 = MC_stocks_5.summarize_cumulative_return()\n",
    "\n",
    "# Print summary statistics\n",
    "summary_5"
   ]
  },
  {
   "cell_type": "code",
   "execution_count": null,
   "metadata": {},
   "outputs": [],
   "source": [
    "# Set initial investment\n",
    "initial_investment = 60000\n",
    "\n",
    "# Use the lower and upper `95%` confidence intervals to calculate the range of the possible outcomes of our $60,000\n",
    "ci_lower_five = round(summary_5[8]*initial_investment, 2)\n",
    "ci_upper_five = round(summary_5[9]*initial_investment, 2)\n",
    "\n",
    "\n",
    "# Print results\n",
    "print(f\"There is a 95% chance that an initial investment of ${initial_investment} in the portfolio\"\n",
    "      f\" over the next 5 years will end within in the range of\"\n",
    "      f\" ${ci_lower_five} and ${ci_upper_five}\")"
   ]
  },
  {
   "cell_type": "markdown",
   "metadata": {},
   "source": [
    "### Ten Years Retirement Option"
   ]
  },
  {
   "cell_type": "code",
   "execution_count": null,
   "metadata": {},
   "outputs": [],
   "source": [
    "# Configuring a Monte Carlo simulation to forecast 10 years cumulative returns\n",
    "MC_stocks_10 = MCSimulation(\n",
    "    portfolio_data = df_stock_data,\n",
    "    weights = [0.3, 0.7],\n",
    "    num_simulation = 500,\n",
    "    num_trading_days = 252*10\n",
    ")"
   ]
  },
  {
   "cell_type": "code",
   "execution_count": null,
   "metadata": {},
   "outputs": [],
   "source": [
    "# Running a Monte Carlo simulation to forecast 10 years cumulative returns\n",
    "MC_stocks_10.calc_cumulative_return()"
   ]
  },
  {
   "cell_type": "code",
   "execution_count": null,
   "metadata": {},
   "outputs": [],
   "source": [
    "# Plot simulation outcomes\n",
    "MC_stocks_10.plot_simulation()"
   ]
  },
  {
   "cell_type": "code",
   "execution_count": null,
   "metadata": {},
   "outputs": [],
   "source": [
    "# Plot probability distribution and confidence intervals\n",
    "MC_stocks_10.plot_distribution()"
   ]
  },
  {
   "cell_type": "code",
   "execution_count": null,
   "metadata": {},
   "outputs": [],
   "source": [
    "# Fetch summary statistics from the Monte Carlo simulation results\n",
    "summary_10 = MC_stocks_10.summarize_cumulative_return()\n",
    "\n",
    "# Print summary statistics\n",
    "summary_10"
   ]
  },
  {
   "cell_type": "code",
   "execution_count": null,
   "metadata": {},
   "outputs": [],
   "source": [
    "# Set initial investment\n",
    "initial_investment = 60000\n",
    "\n",
    "# Use the lower and upper `95%` confidence intervals to calculate the range of the possible outcomes of our $60,000\n",
    "ci_lower_ten = round(summary[8]*initial_investment, 2)\n",
    "ci_upper_ten = round(summary[9]*initial_investment, 2)\n",
    "\n",
    "# Print results\n",
    "print(f\"There is a 95% chance that an initial investment of ${initial_investment} in the portfolio\"\n",
    "      f\" over the next 10 years will end within in the range of\"\n",
    "      f\" ${ci_lower_ten} and ${ci_upper_ten}\")"
   ]
  },
  {
   "cell_type": "markdown",
   "metadata": {},
   "source": [
    "### One year retirement option"
   ]
  },
  {
   "cell_type": "code",
   "execution_count": null,
   "metadata": {},
   "outputs": [],
   "source": [
    "MC_stocks_one = MCSimulation(\n",
    "    portfolio_data = df_stock_data,\n",
    "    weights = [0.2, 0.8],\n",
    "    num_simulation = 500,\n",
    "    num_trading_days = 252*1\n",
    ")\n",
    "\n"
   ]
  },
  {
   "cell_type": "code",
   "execution_count": null,
   "metadata": {},
   "outputs": [],
   "source": [
    "MC_stocks_one.calc_cumulative_return()"
   ]
  },
  {
   "cell_type": "code",
   "execution_count": null,
   "metadata": {},
   "outputs": [],
   "source": [
    "MC_stocks_one.plot_simulation()"
   ]
  },
  {
   "cell_type": "code",
   "execution_count": null,
   "metadata": {},
   "outputs": [],
   "source": [
    "summary_one = MC_stocks_10.summarize_cumulative_return()\n",
    "summary_one"
   ]
  },
  {
   "cell_type": "code",
   "execution_count": null,
   "metadata": {},
   "outputs": [],
   "source": [
    "initial_investment = 60000\n",
    "ci_lower_one = round(summary[8]*initial_investment, 2)\n",
    "ci_upper_one = round(summary[9]*initial_investment, 2)\n",
    "print(f\"There is a 95% chance that an initial investment of ${initial_investment} in the portfolio\"\n",
    "      f\" over the next year will end within in the range of\"\n",
    "      f\" ${ci_lower_ten} and ${ci_upper_ten}\")"
   ]
  },
  {
   "cell_type": "code",
   "execution_count": null,
   "metadata": {},
   "outputs": [],
   "source": []
  },
  {
   "cell_type": "code",
   "execution_count": null,
   "metadata": {},
   "outputs": [],
   "source": []
  },
  {
   "cell_type": "code",
   "execution_count": null,
   "metadata": {},
   "outputs": [],
   "source": []
  }
 ],
 "metadata": {
  "kernelspec": {
   "display_name": "Python 3 (ipykernel)",
   "language": "python",
   "name": "python3"
  },
  "language_info": {
   "codemirror_mode": {
    "name": "ipython",
    "version": 3
   },
   "file_extension": ".py",
   "mimetype": "text/x-python",
   "name": "python",
   "nbconvert_exporter": "python",
   "pygments_lexer": "ipython3",
   "version": "3.8.8"
  },
  "nteract": {
   "version": "0.28.0"
  }
 },
 "nbformat": 4,
 "nbformat_minor": 4
}
